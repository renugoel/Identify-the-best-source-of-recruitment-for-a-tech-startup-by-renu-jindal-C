{
 "cells": [
  {
   "cell_type": "markdown",
   "id": "8a4b2eb3",
   "metadata": {},
   "source": [
    "### Import the necessary libraries"
   ]
  },
  {
   "cell_type": "code",
   "execution_count": 1,
   "id": "65766f8d",
   "metadata": {},
   "outputs": [],
   "source": [
    "import pandas as pd\n",
    "import numpy as np\n",
    "import matplotlib.pyplot as plt\n",
    "import seaborn as sns"
   ]
  },
  {
   "cell_type": "markdown",
   "id": "a3fac992",
   "metadata": {},
   "source": [
    "### Read the data set"
   ]
  },
  {
   "cell_type": "code",
   "execution_count": 2,
   "id": "f6cca71c",
   "metadata": {},
   "outputs": [],
   "source": [
    "df=pd.read_csv('D:\\data sets\\Recruitment_Data.csv')"
   ]
  },
  {
   "cell_type": "code",
   "execution_count": 3,
   "id": "d816f11a",
   "metadata": {},
   "outputs": [
    {
     "data": {
      "text/html": [
       "<div>\n",
       "<style scoped>\n",
       "    .dataframe tbody tr th:only-of-type {\n",
       "        vertical-align: middle;\n",
       "    }\n",
       "\n",
       "    .dataframe tbody tr th {\n",
       "        vertical-align: top;\n",
       "    }\n",
       "\n",
       "    .dataframe thead th {\n",
       "        text-align: right;\n",
       "    }\n",
       "</style>\n",
       "<table border=\"1\" class=\"dataframe\">\n",
       "  <thead>\n",
       "    <tr style=\"text-align: right;\">\n",
       "      <th></th>\n",
       "      <th>attrition</th>\n",
       "      <th>performance_rating</th>\n",
       "      <th>sales_quota_pct</th>\n",
       "      <th>recruiting_source</th>\n",
       "    </tr>\n",
       "  </thead>\n",
       "  <tbody>\n",
       "    <tr>\n",
       "      <th>0</th>\n",
       "      <td>1</td>\n",
       "      <td>3</td>\n",
       "      <td>1.088190</td>\n",
       "      <td>Applied Online</td>\n",
       "    </tr>\n",
       "    <tr>\n",
       "      <th>1</th>\n",
       "      <td>0</td>\n",
       "      <td>3</td>\n",
       "      <td>2.394173</td>\n",
       "      <td>NaN</td>\n",
       "    </tr>\n",
       "    <tr>\n",
       "      <th>2</th>\n",
       "      <td>1</td>\n",
       "      <td>2</td>\n",
       "      <td>0.497530</td>\n",
       "      <td>Campus</td>\n",
       "    </tr>\n",
       "    <tr>\n",
       "      <th>3</th>\n",
       "      <td>0</td>\n",
       "      <td>2</td>\n",
       "      <td>2.513958</td>\n",
       "      <td>NaN</td>\n",
       "    </tr>\n",
       "    <tr>\n",
       "      <th>4</th>\n",
       "      <td>0</td>\n",
       "      <td>3</td>\n",
       "      <td>1.424789</td>\n",
       "      <td>Applied Online</td>\n",
       "    </tr>\n",
       "    <tr>\n",
       "      <th>5</th>\n",
       "      <td>1</td>\n",
       "      <td>3</td>\n",
       "      <td>0.548123</td>\n",
       "      <td>Referral</td>\n",
       "    </tr>\n",
       "    <tr>\n",
       "      <th>6</th>\n",
       "      <td>1</td>\n",
       "      <td>3</td>\n",
       "      <td>0.794213</td>\n",
       "      <td>Applied Online</td>\n",
       "    </tr>\n",
       "    <tr>\n",
       "      <th>7</th>\n",
       "      <td>0</td>\n",
       "      <td>2</td>\n",
       "      <td>1.006524</td>\n",
       "      <td>Referral</td>\n",
       "    </tr>\n",
       "    <tr>\n",
       "      <th>8</th>\n",
       "      <td>0</td>\n",
       "      <td>3</td>\n",
       "      <td>1.519917</td>\n",
       "      <td>Campus</td>\n",
       "    </tr>\n",
       "    <tr>\n",
       "      <th>9</th>\n",
       "      <td>0</td>\n",
       "      <td>3</td>\n",
       "      <td>2.073528</td>\n",
       "      <td>NaN</td>\n",
       "    </tr>\n",
       "    <tr>\n",
       "      <th>10</th>\n",
       "      <td>0</td>\n",
       "      <td>3</td>\n",
       "      <td>2.189803</td>\n",
       "      <td>NaN</td>\n",
       "    </tr>\n",
       "    <tr>\n",
       "      <th>11</th>\n",
       "      <td>0</td>\n",
       "      <td>2</td>\n",
       "      <td>0.276887</td>\n",
       "      <td>NaN</td>\n",
       "    </tr>\n",
       "    <tr>\n",
       "      <th>12</th>\n",
       "      <td>0</td>\n",
       "      <td>4</td>\n",
       "      <td>0.860353</td>\n",
       "      <td>Campus</td>\n",
       "    </tr>\n",
       "    <tr>\n",
       "      <th>13</th>\n",
       "      <td>0</td>\n",
       "      <td>3</td>\n",
       "      <td>0.362379</td>\n",
       "      <td>Applied Online</td>\n",
       "    </tr>\n",
       "    <tr>\n",
       "      <th>14</th>\n",
       "      <td>0</td>\n",
       "      <td>2</td>\n",
       "      <td>1.259365</td>\n",
       "      <td>NaN</td>\n",
       "    </tr>\n",
       "    <tr>\n",
       "      <th>15</th>\n",
       "      <td>0</td>\n",
       "      <td>3</td>\n",
       "      <td>1.635205</td>\n",
       "      <td>NaN</td>\n",
       "    </tr>\n",
       "    <tr>\n",
       "      <th>16</th>\n",
       "      <td>0</td>\n",
       "      <td>3</td>\n",
       "      <td>2.471433</td>\n",
       "      <td>Applied Online</td>\n",
       "    </tr>\n",
       "    <tr>\n",
       "      <th>17</th>\n",
       "      <td>0</td>\n",
       "      <td>2</td>\n",
       "      <td>1.889283</td>\n",
       "      <td>NaN</td>\n",
       "    </tr>\n",
       "    <tr>\n",
       "      <th>18</th>\n",
       "      <td>0</td>\n",
       "      <td>3</td>\n",
       "      <td>0.313106</td>\n",
       "      <td>Campus</td>\n",
       "    </tr>\n",
       "    <tr>\n",
       "      <th>19</th>\n",
       "      <td>0</td>\n",
       "      <td>3</td>\n",
       "      <td>0.084895</td>\n",
       "      <td>Applied Online</td>\n",
       "    </tr>\n",
       "  </tbody>\n",
       "</table>\n",
       "</div>"
      ],
      "text/plain": [
       "    attrition  performance_rating  sales_quota_pct recruiting_source\n",
       "0           1                   3         1.088190    Applied Online\n",
       "1           0                   3         2.394173               NaN\n",
       "2           1                   2         0.497530            Campus\n",
       "3           0                   2         2.513958               NaN\n",
       "4           0                   3         1.424789    Applied Online\n",
       "5           1                   3         0.548123          Referral\n",
       "6           1                   3         0.794213    Applied Online\n",
       "7           0                   2         1.006524          Referral\n",
       "8           0                   3         1.519917            Campus\n",
       "9           0                   3         2.073528               NaN\n",
       "10          0                   3         2.189803               NaN\n",
       "11          0                   2         0.276887               NaN\n",
       "12          0                   4         0.860353            Campus\n",
       "13          0                   3         0.362379    Applied Online\n",
       "14          0                   2         1.259365               NaN\n",
       "15          0                   3         1.635205               NaN\n",
       "16          0                   3         2.471433    Applied Online\n",
       "17          0                   2         1.889283               NaN\n",
       "18          0                   3         0.313106            Campus\n",
       "19          0                   3         0.084895    Applied Online"
      ]
     },
     "execution_count": 3,
     "metadata": {},
     "output_type": "execute_result"
    }
   ],
   "source": [
    "df.head(20)"
   ]
  },
  {
   "cell_type": "code",
   "execution_count": 4,
   "id": "c931a034",
   "metadata": {},
   "outputs": [
    {
     "data": {
      "text/plain": [
       "(446, 4)"
      ]
     },
     "execution_count": 4,
     "metadata": {},
     "output_type": "execute_result"
    }
   ],
   "source": [
    "df.shape"
   ]
  },
  {
   "cell_type": "code",
   "execution_count": 43,
   "id": "e281acd3",
   "metadata": {},
   "outputs": [
    {
     "name": "stdout",
     "output_type": "stream",
     "text": [
      "<class 'pandas.core.frame.DataFrame'>\n",
      "RangeIndex: 446 entries, 0 to 445\n",
      "Data columns (total 4 columns):\n",
      " #   Column              Non-Null Count  Dtype  \n",
      "---  ------              --------------  -----  \n",
      " 0   attrition           446 non-null    int64  \n",
      " 1   performance_rating  446 non-null    int64  \n",
      " 2   sales_quota_pct     446 non-null    float64\n",
      " 3   recruiting_source   241 non-null    object \n",
      "dtypes: float64(1), int64(2), object(1)\n",
      "memory usage: 14.1+ KB\n"
     ]
    }
   ],
   "source": [
    "df.info()"
   ]
  },
  {
   "cell_type": "code",
   "execution_count": 4,
   "id": "9dbccf1b",
   "metadata": {},
   "outputs": [
    {
     "data": {
      "text/plain": [
       "Text(0.5, 1.0, 'Recruiting source')"
      ]
     },
     "execution_count": 4,
     "metadata": {},
     "output_type": "execute_result"
    },
    {
     "data": {
      "image/png": "[encoded data removed]",
      "text/plain": [
       "<Figure size 640x480 with 1 Axes>"
      ]
     },
     "metadata": {},
     "output_type": "display_data"
    }
   ],
   "source": [
    "sns.countplot(x=df['recruiting_source'])\n",
    "plt .title(\"Recruiting source\")"
   ]
  },
  {
   "cell_type": "markdown",
   "id": "fba363b9",
   "metadata": {},
   "source": [
    "### check the null values"
   ]
  },
  {
   "cell_type": "code",
   "execution_count": 6,
   "id": "03e38d5b",
   "metadata": {},
   "outputs": [
    {
     "data": {
      "text/plain": [
       "attrition               0\n",
       "performance_rating      0\n",
       "sales_quota_pct         0\n",
       "recruiting_source     205\n",
       "dtype: int64"
      ]
     },
     "execution_count": 6,
     "metadata": {},
     "output_type": "execute_result"
    }
   ],
   "source": [
    "df.isnull().sum()"
   ]
  },
  {
   "cell_type": "code",
   "execution_count": 7,
   "id": "cfc1388a",
   "metadata": {},
   "outputs": [
    {
     "data": {
      "text/plain": [
       "attrition              0.00\n",
       "performance_rating     0.00\n",
       "sales_quota_pct        0.00\n",
       "recruiting_source     45.96\n",
       "dtype: float64"
      ]
     },
     "execution_count": 7,
     "metadata": {},
     "output_type": "execute_result"
    }
   ],
   "source": [
    "round(100*(df.isnull().sum()/len(df)),2)"
   ]
  },
  {
   "cell_type": "markdown",
   "id": "d412ef1d",
   "metadata": {},
   "source": [
    "### Impute null value with \"other\" "
   ]
  },
  {
   "cell_type": "code",
   "execution_count": 5,
   "id": "ec51a1bf",
   "metadata": {},
   "outputs": [],
   "source": [
    "df['recruiting_source']=df['recruiting_source'].fillna('others')"
   ]
  },
  {
   "cell_type": "code",
   "execution_count": 15,
   "id": "1d9c3cec",
   "metadata": {},
   "outputs": [
    {
     "data": {
      "text/plain": [
       "attrition             0.0\n",
       "performance_rating    0.0\n",
       "sales_quota_pct       0.0\n",
       "recruiting_source     0.0\n",
       "dtype: float64"
      ]
     },
     "execution_count": 15,
     "metadata": {},
     "output_type": "execute_result"
    }
   ],
   "source": [
    "round(100*(df.isnull().sum()/len(df)),2)"
   ]
  },
  {
   "cell_type": "markdown",
   "id": "937091a9",
   "metadata": {},
   "source": [
    "### Till here our data is clean"
   ]
  },
  {
   "cell_type": "markdown",
   "id": "73954fde",
   "metadata": {},
   "source": [
    "### Check the count plot for \"recruiting_source\""
   ]
  },
  {
   "cell_type": "code",
   "execution_count": 6,
   "id": "48da727b",
   "metadata": {},
   "outputs": [
    {
     "data": {
      "text/plain": [
       "Text(0.5, 1.0, 'Recruting source')"
      ]
     },
     "execution_count": 6,
     "metadata": {},
     "output_type": "execute_result"
    },
    {
     "data": {
      "image/png": "[encoded data removed]",
      "text/plain": [
       "<Figure size 640x480 with 1 Axes>"
      ]
     },
     "metadata": {},
     "output_type": "display_data"
    }
   ],
   "source": [
    "sns.countplot(x=df['recruiting_source'])\n",
    "plt.title(\"Recruting source\")"
   ]
  },
  {
   "cell_type": "code",
   "execution_count": null,
   "id": "ecdc346f",
   "metadata": {},
   "outputs": [],
   "source": []
  },
  {
   "cell_type": "markdown",
   "id": "d3ce0082",
   "metadata": {},
   "source": [
    "#### As we see in this graph recruitment through Referral,campus and search firm are very less in count as compare to other sources"
   ]
  },
  {
   "cell_type": "code",
   "execution_count": 9,
   "id": "3573e511",
   "metadata": {},
   "outputs": [
    {
     "data": {
      "text/html": [
       "<div>\n",
       "<style scoped>\n",
       "    .dataframe tbody tr th:only-of-type {\n",
       "        vertical-align: middle;\n",
       "    }\n",
       "\n",
       "    .dataframe tbody tr th {\n",
       "        vertical-align: top;\n",
       "    }\n",
       "\n",
       "    .dataframe thead th {\n",
       "        text-align: right;\n",
       "    }\n",
       "</style>\n",
       "<table border=\"1\" class=\"dataframe\">\n",
       "  <thead>\n",
       "    <tr style=\"text-align: right;\">\n",
       "      <th></th>\n",
       "      <th>recruiting_source</th>\n",
       "      <th>Average_sales_rating</th>\n",
       "    </tr>\n",
       "  </thead>\n",
       "  <tbody>\n",
       "    <tr>\n",
       "      <th>0</th>\n",
       "      <td>Applied Online</td>\n",
       "      <td>1.058590</td>\n",
       "    </tr>\n",
       "    <tr>\n",
       "      <th>1</th>\n",
       "      <td>Campus</td>\n",
       "      <td>0.908035</td>\n",
       "    </tr>\n",
       "    <tr>\n",
       "      <th>2</th>\n",
       "      <td>Referral</td>\n",
       "      <td>1.023198</td>\n",
       "    </tr>\n",
       "    <tr>\n",
       "      <th>3</th>\n",
       "      <td>Search Firm</td>\n",
       "      <td>0.886960</td>\n",
       "    </tr>\n",
       "    <tr>\n",
       "      <th>4</th>\n",
       "      <td>others</td>\n",
       "      <td>1.168109</td>\n",
       "    </tr>\n",
       "  </tbody>\n",
       "</table>\n",
       "</div>"
      ],
      "text/plain": [
       "  recruiting_source  Average_sales_rating\n",
       "0    Applied Online              1.058590\n",
       "1            Campus              0.908035\n",
       "2          Referral              1.023198\n",
       "3       Search Firm              0.886960\n",
       "4            others              1.168109"
      ]
     },
     "execution_count": 9,
     "metadata": {},
     "output_type": "execute_result"
    }
   ],
   "source": [
    "grp=df.groupby(['recruiting_source'])['sales_quota_pct'].mean().reset_index(name='Average_sales_rating')\n",
    "grp"
   ]
  },
  {
   "cell_type": "markdown",
   "id": "4cc9900b",
   "metadata": {},
   "source": [
    "#### the average  sales_quota of campus and search firm has  also  low value as compare to other sources"
   ]
  },
  {
   "cell_type": "code",
   "execution_count": 21,
   "id": "aaafc206",
   "metadata": {},
   "outputs": [
    {
     "data": {
      "text/plain": [
       "Text(0.5, 1.0, 'Average sale_rating w.r.t Recruiting_sources')"
      ]
     },
     "execution_count": 21,
     "metadata": {},
     "output_type": "execute_result"
    },
    {
     "data": {
      "image/png": "[encoded data removed]",
      "text/plain": [
       "<Figure size 600x400 with 1 Axes>"
      ]
     },
     "metadata": {},
     "output_type": "display_data"
    }
   ],
   "source": [
    "plt.figure(figsize=(6,4))\n",
    "sns.barplot(data=grp,x='recruiting_source',y='Average_sales_rating')\n",
    "plt.title(\"Average sale_rating w.r.t Recruiting_sources\")\n"
   ]
  },
  {
   "cell_type": "markdown",
   "id": "9cee6c36",
   "metadata": {},
   "source": [
    "### Inference:\n",
    "Sales_quota_pct:  represent the performance or achievement  of the employees  by the end of month.\n",
    "In our data set we clearly see that mean of  sales performance of each employees w.r.t recruiting sources.\n",
    "As we see that sales quota for  employees recruiting from applied online ,Referral and from other sources are high as compare to Campus and Search firm."
   ]
  },
  {
   "cell_type": "code",
   "execution_count": 12,
   "id": "69fa003e",
   "metadata": {},
   "outputs": [
    {
     "data": {
      "text/html": [
       "<div>\n",
       "<style scoped>\n",
       "    .dataframe tbody tr th:only-of-type {\n",
       "        vertical-align: middle;\n",
       "    }\n",
       "\n",
       "    .dataframe tbody tr th {\n",
       "        vertical-align: top;\n",
       "    }\n",
       "\n",
       "    .dataframe thead th {\n",
       "        text-align: right;\n",
       "    }\n",
       "</style>\n",
       "<table border=\"1\" class=\"dataframe\">\n",
       "  <thead>\n",
       "    <tr style=\"text-align: right;\">\n",
       "      <th></th>\n",
       "      <th>recruiting_source</th>\n",
       "      <th>attrition_rate</th>\n",
       "    </tr>\n",
       "  </thead>\n",
       "  <tbody>\n",
       "    <tr>\n",
       "      <th>0</th>\n",
       "      <td>Applied Online</td>\n",
       "      <td>0.246154</td>\n",
       "    </tr>\n",
       "    <tr>\n",
       "      <th>1</th>\n",
       "      <td>Campus</td>\n",
       "      <td>0.285714</td>\n",
       "    </tr>\n",
       "    <tr>\n",
       "      <th>2</th>\n",
       "      <td>Referral</td>\n",
       "      <td>0.333333</td>\n",
       "    </tr>\n",
       "    <tr>\n",
       "      <th>3</th>\n",
       "      <td>Search Firm</td>\n",
       "      <td>0.500000</td>\n",
       "    </tr>\n",
       "    <tr>\n",
       "      <th>4</th>\n",
       "      <td>others</td>\n",
       "      <td>0.131707</td>\n",
       "    </tr>\n",
       "  </tbody>\n",
       "</table>\n",
       "</div>"
      ],
      "text/plain": [
       "  recruiting_source  attrition_rate\n",
       "0    Applied Online        0.246154\n",
       "1            Campus        0.285714\n",
       "2          Referral        0.333333\n",
       "3       Search Firm        0.500000\n",
       "4            others        0.131707"
      ]
     },
     "execution_count": 12,
     "metadata": {},
     "output_type": "execute_result"
    }
   ],
   "source": [
    "grp2=df.groupby(['recruiting_source'])['attrition'].mean().reset_index(name=\"attrition_rate\")\n",
    "grp2"
   ]
  },
  {
   "cell_type": "markdown",
   "id": "88830e5f",
   "metadata": {},
   "source": [
    "#### The average attrition of Search Firm is very high as compare to other \n"
   ]
  },
  {
   "cell_type": "code",
   "execution_count": 22,
   "id": "d1339d7c",
   "metadata": {},
   "outputs": [
    {
     "data": {
      "text/plain": [
       "Text(0.5, 1.0, 'Attrition rate w.r.t Recruiting_sources')"
      ]
     },
     "execution_count": 22,
     "metadata": {},
     "output_type": "execute_result"
    },
    {
     "data": {
      "image/png": "[encoded data removed]",
      "text/plain": [
       "<Figure size 600x400 with 1 Axes>"
      ]
     },
     "metadata": {},
     "output_type": "display_data"
    }
   ],
   "source": [
    "plt.figure(figsize=(6,4))\n",
    "sns.barplot(data=grp2,x='recruiting_source',y='attrition_rate')\n",
    "plt.title(\"Attrition rate w.r.t Recruiting_sources\")"
   ]
  },
  {
   "cell_type": "markdown",
   "id": "257c0682",
   "metadata": {},
   "source": []
  },
  {
   "cell_type": "markdown",
   "id": "e910193c",
   "metadata": {},
   "source": [
    "### Inference:\n",
    "Attrition: Attrition rate represent the rate at which employees leaving the company.\n",
    "In our data set we clearly see that mean of  Attrition rate of each employees w.r.t recruiting sources. As we see that Attrition rate  for employees recruiting from applied online , campus,Referral and from other sources are low as compare to Search firm."
   ]
  },
  {
   "cell_type": "markdown",
   "id": "a7921f37",
   "metadata": {},
   "source": [
    "### Conclusion:\n"
   ]
  },
  {
   "cell_type": "markdown",
   "id": "596b6d16",
   "metadata": {},
   "source": [
    "#### Applied online:\n",
    "sales_quota rate is high  and attrition rate is low.Which means applied online sources gives positive result."
   ]
  },
  {
   "cell_type": "markdown",
   "id": "5c46c1a2",
   "metadata": {},
   "source": [
    "#### Campus:\n",
    "sales_quota rate is high and attrition rate is low .Which also means Campus sources gives positive result."
   ]
  },
  {
   "cell_type": "markdown",
   "id": "384388d4",
   "metadata": {},
   "source": [
    "#### Other :  \n",
    "sales_quota rate is high and attrition rate is low .Which also means other sources gives positive result."
   ]
  },
  {
   "cell_type": "markdown",
   "id": "b0bf7c4d",
   "metadata": {},
   "source": [
    "#### Search firm: \n",
    "sales_quota rate is low  and attrition rate is high .Which  means search firm sources puts negative\n",
    "impact on the organisation reputation."
   ]
  },
  {
   "cell_type": "markdown",
   "id": "ebf68d57",
   "metadata": {},
   "source": [
    "#### Referral: \n",
    "sales_quota rate is good but  attrition rate is very high  .Which  means that employees coming from referral \n",
    "sources did his job very well but they didnot stay for long time."
   ]
  },
  {
   "cell_type": "code",
   "execution_count": null,
   "id": "3234e8f8",
   "metadata": {},
   "outputs": [],
   "source": []
  }
 ],
 "metadata": {
  "kernelspec": {
   "display_name": "Python 3 (ipykernel)",
   "language": "python",
   "name": "python3"
  },
  "language_info": {
   "codemirror_mode": {
    "name": "ipython",
    "version": 3
   },
   "file_extension": ".py",
   "mimetype": "text/x-python",
   "name": "python",
   "nbconvert_exporter": "python",
   "pygments_lexer": "ipython3",
   "version": "3.11.4"
  }
 },
 "nbformat": 4,
 "nbformat_minor": 5
}
